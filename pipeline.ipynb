{
 "cells": [
  {
   "cell_type": "markdown",
   "metadata": {},
   "source": [
    "# Graph Agents\n",
    "* The specific short project aims to combine the concepts of **multiagent systems** and **knowledge graphs**.\n",
    "* A multiagent system (MAS) consists of multiple artificial intelligence (AI) agents working collectively to perform tasks on behalf of a user or another system ([IBM](https://www.ibm.com/think/topics/multiagent-system)).\n",
    "* A knowledge graph is an organized representation of real-world entities and their relationships. It is typically stored in a graph database, which natively stores the relationships between data entities ([neo4j](https://neo4j.com/blog/what-is-knowledge-graph/)).\n",
    "* The idea behind combining multiagent systems with knowledge graphs is to **enhance query answering** by leveraging the **agents' specialized reasoning capabilities** and the **knowledge graph's structured semantic relationships**, enabling more accurate, context-aware, and scalable solutions.\n",
    "* The specific implementation consists of 3 steps:\n",
    "    1. *Creation of the knowledge graph*: this is done with [GraphRAG](https://github.com/microsoft/graphrag).\n",
    "    2. *Saving the graph in a database*: a [neo4j](https://neo4j.com/) graph database is used.\n",
    "    3. *Building the multiagent system for question answering*: using [autogen](https://github.com/ag2ai/ag2).\n",
    "\n",
    "## Acknowledgements\n",
    "* Three resources influenced the implementation:\n",
    "    1. [GraphRag: Getting Started](https://microsoft.github.io/graphrag/get_started/)\n",
    "    2. [Commit `cb0aae7` in GraphRAG](https://github.com/microsoft/graphrag/commit/cb0aae7e6bf1763ca5a7540d2220c11162863915)\n",
    "    3. [Knowledge Graphs for RAG course by DeepLearning.AI](https://learn.deeplearning.ai/courses/knowledge-graphs-rag)"
   ]
  },
  {
   "cell_type": "markdown",
   "metadata": {
    "vscode": {
     "languageId": "yaml"
    }
   },
   "source": [
    "## 1. Creation of the knowledge graph\n",
    "* GraphRAG calls this process [indexing](https://microsoft.github.io/graphrag/index/overview/).\n",
    "* It is designed to:\n",
    "    1. extract entities, relationships and claims from raw text\n",
    "    2. perform community detection in entities\n",
    "    3. generate community summaries and reports at multiple levels of granularity\n",
    "    4. embed entities into a graph vector space\n",
    "    5. embed text chunks into a textual vector space\n",
    "* The process can be executed from the command line following the guidelines described in the [Getting Started](https://microsoft.github.io/graphrag/get_started/) page.\n"
   ]
  },
  {
   "cell_type": "markdown",
   "metadata": {},
   "source": [
    "### Create the folder\n",
    "* In this folder the indexing files will be saved."
   ]
  },
  {
   "cell_type": "code",
   "execution_count": 1,
   "metadata": {},
   "outputs": [],
   "source": [
    "import os\n",
    "\n",
    "os.makedirs('./graph_agents_indexing/input', exist_ok=True)"
   ]
  },
  {
   "cell_type": "markdown",
   "metadata": {},
   "source": [
    "### Download test data\n",
    "* Download *Alice's Adventures in Wonderland* by Lewis Carrol (a personal favorite) from the [Gutenberg Project](https://www.gutenberg.org/)."
   ]
  },
  {
   "cell_type": "code",
   "execution_count": 2,
   "metadata": {},
   "outputs": [
    {
     "name": "stderr",
     "output_type": "stream",
     "text": [
      "  % Total    % Received % Xferd  Average Speed   Time    Time     Time  Current\n",
      "                                 Dload  Upload   Total   Spent    Left  Speed\n",
      "\n",
      "  0     0    0     0    0     0      0      0 --:--:-- --:--:-- --:--:--     0\n",
      "  0     0    0     0    0     0      0      0 --:--:-- --:--:-- --:--:--     0\n",
      "100  150k  100  150k    0     0  96825      0  0:00:01  0:00:01 --:--:--   99k\n"
     ]
    }
   ],
   "source": [
    "!curl https://www.gutenberg.org/files/11/11-0.txt -o ./graph_agents_indexing/input/alice_in_wonderland.txt   "
   ]
  },
  {
   "cell_type": "markdown",
   "metadata": {},
   "source": [
    "### Initialize GraphRAG\n",
    "* Setup GraphRAG.\n",
    "* To do so follow the guidelines in the section [Set Up your Workspace Variables](https://microsoft.github.io/graphrag/get_started/#:~:text=Set%20Up%20Your%20Workspace%20Variables) of the *Getting Started* page.\n",
    "* *Important*: Additionally set the `embeddings` value under `snapshots` to true, to get the embeddings of the entities."
   ]
  },
  {
   "cell_type": "code",
   "execution_count": 3,
   "metadata": {},
   "outputs": [],
   "source": [
    "!graphrag init --root ./graph_agents_indexing > NUL 2>&1"
   ]
  },
  {
   "cell_type": "markdown",
   "metadata": {},
   "source": [
    "### Index data\n",
    "* Run the indexing process"
   ]
  },
  {
   "cell_type": "code",
   "execution_count": 4,
   "metadata": {},
   "outputs": [],
   "source": [
    "!graphrag index --root ./graph_agents_indexing > NUL 2>&1"
   ]
  },
  {
   "cell_type": "markdown",
   "metadata": {},
   "source": [
    "* Now the results of the process are saved in parquet files within the `./graph_agents_indexing/output` folder."
   ]
  }
 ],
 "metadata": {
  "kernelspec": {
   "display_name": ".venv",
   "language": "python",
   "name": "python3"
  },
  "language_info": {
   "codemirror_mode": {
    "name": "ipython",
    "version": 3
   },
   "file_extension": ".py",
   "mimetype": "text/x-python",
   "name": "python",
   "nbconvert_exporter": "python",
   "pygments_lexer": "ipython3",
   "version": "3.11.5"
  }
 },
 "nbformat": 4,
 "nbformat_minor": 2
}
