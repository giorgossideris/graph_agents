{
 "cells": [
  {
   "cell_type": "markdown",
   "metadata": {},
   "source": [
    "# Graph Agents\n",
    "* The specific short project aims to combine the concepts of **multiagent systems** and **knowledge graphs**.\n",
    "* A multiagent system consists of multiple artificial intelligence agents working collectively to perform tasks on behalf of a user or another system ([IBM](https://www.ibm.com/think/topics/multiagent-system)).\n",
    "* A knowledge graph is an organized representation of real-world entities and their relationships. It is typically stored in a graph database, which natively stores the relationships between data entities ([Neo4j](https://neo4j.com/blog/what-is-knowledge-graph/)).\n",
    "* The idea behind combining multiagent systems with knowledge graphs is to **enhance query answering** by leveraging the **agents' specialized reasoning capabilities** and the **knowledge graph's structured semantic relationships**, enabling more accurate, context-aware, and scalable solutions.\n",
    "* The specific implementation consists of 3 steps:\n",
    "    1. *Creation of the knowledge graph*: this is done with [GraphRAG](https://github.com/microsoft/graphrag).\n",
    "    2. *Saving the graph in a database*: a [Neo4j](https://neo4j.com/) graph database is used.\n",
    "    3. *Building the multiagent system for question answering*: using [AG2](https://github.com/ag2ai/ag2) (formerly AutoGen).\n",
    "\n",
    "## Acknowledgements\n",
    "* Three resources influenced the implementation:\n",
    "    1. [GraphRag: Getting Started](https://microsoft.github.io/graphrag/get_started/)\n",
    "    2. [Commit `cb0aae7` in GraphRAG](https://github.com/microsoft/graphrag/commit/cb0aae7e6bf1763ca5a7540d2220c11162863915)\n",
    "    3. [Knowledge Graphs for RAG course by DeepLearning.AI](https://learn.deeplearning.ai/courses/knowledge-graphs-rag)"
   ]
  },
  {
   "cell_type": "markdown",
   "metadata": {
    "vscode": {
     "languageId": "yaml"
    }
   },
   "source": [
    "## 1. Creation of the knowledge graph\n",
    "* GraphRAG calls this process [indexing](https://microsoft.github.io/graphrag/index/overview/).\n",
    "* It is designed to:\n",
    "    1. extract entities, relationships and claims from raw text\n",
    "    2. perform community detection in entities\n",
    "    3. generate community summaries and reports at multiple levels of granularity\n",
    "    4. embed entities into a graph vector space\n",
    "    5. embed text chunks into a textual vector space\n",
    "* The process can be executed from the command line following the guidelines described in the [Getting Started](https://microsoft.github.io/graphrag/get_started/) page.\n"
   ]
  },
  {
   "cell_type": "markdown",
   "metadata": {},
   "source": [
    "### Create the folder\n",
    "* In this folder the indexing files will be saved."
   ]
  },
  {
   "cell_type": "code",
   "execution_count": 1,
   "metadata": {},
   "outputs": [],
   "source": [
    "import os\n",
    "\n",
    "os.makedirs('./graph_agents_indexing/input', exist_ok=True)"
   ]
  },
  {
   "cell_type": "markdown",
   "metadata": {},
   "source": [
    "### Download test data\n",
    "* Download *Alice's Adventures in Wonderland* by Lewis Carrol (a personal favorite) from the [Gutenberg Project](https://www.gutenberg.org/)."
   ]
  },
  {
   "cell_type": "code",
   "execution_count": 2,
   "metadata": {},
   "outputs": [
    {
     "name": "stderr",
     "output_type": "stream",
     "text": [
      "  % Total    % Received % Xferd  Average Speed   Time    Time     Time  Current\n",
      "                                 Dload  Upload   Total   Spent    Left  Speed\n",
      "\n",
      "  0     0    0     0    0     0      0      0 --:--:-- --:--:-- --:--:--     0\n",
      "  0     0    0     0    0     0      0      0 --:--:--  0:00:01 --:--:--     0\n",
      "100  150k  100  150k    0     0   104k      0  0:00:01  0:00:01 --:--:--  107k\n"
     ]
    }
   ],
   "source": [
    "!curl https://www.gutenberg.org/files/11/11-0.txt -o ./graph_agents_indexing/input/alice_in_wonderland.txt   "
   ]
  },
  {
   "cell_type": "markdown",
   "metadata": {},
   "source": [
    "### Initialize GraphRAG\n",
    "* Setup GraphRAG.\n",
    "* To do so follow the guidelines in the section [Set Up your Workspace Variables](https://microsoft.github.io/graphrag/get_started/#:~:text=Set%20Up%20Your%20Workspace%20Variables) of the *Getting Started* page.\n",
    "* *Important*: Additionally set the `embeddings` value under `snapshots` to true, to get the embeddings of the entities."
   ]
  },
  {
   "cell_type": "code",
   "execution_count": 3,
   "metadata": {},
   "outputs": [],
   "source": [
    "!graphrag init --root ./graph_agents_indexing > NUL 2>&1"
   ]
  },
  {
   "cell_type": "markdown",
   "metadata": {},
   "source": [
    "### Index data\n",
    "* Run the indexing process"
   ]
  },
  {
   "cell_type": "code",
   "execution_count": 4,
   "metadata": {},
   "outputs": [],
   "source": [
    "!graphrag index --root ./graph_agents_indexing > NUL 2>&1"
   ]
  },
  {
   "cell_type": "markdown",
   "metadata": {},
   "source": [
    "* Now the results of the process are saved in parquet files within the `./graph_agents_indexing/output` folder."
   ]
  },
  {
   "cell_type": "markdown",
   "metadata": {},
   "source": [
    "## 2. Saving the graph in a database\n",
    "* A powerful database option for graphs is [Neo4j](https://neo4j.com/).\n",
    "* It uses nodes, relationships, and properties to represent and store data, enabling highly efficient querying and analysis of complex, interconnected information.\n",
    "* The commit [`cb0aae7`](https://github.com/microsoft/graphrag/commit/cb0aae7e6bf1763ca5a7540d2220c11162863915) in GraphRAG was used as base for the `neo4j_loading.py` script.\n",
    "\n",
    "### Neo4j installation (from [here](https://github.com/microsoft/graphrag/blob/1a13e0fd93cecca8b10eaa59860e5000d691d417/examples_notebooks/community_contrib/neo4j/graphrag_import_neo4j_cypher.ipynb#L19))\n",
    "* You can create a free instance of Neo4j online. You get a credentials file that you can use for the connection credentials. You can also get an instance in any of the cloud marketplaces.\n",
    "* If you want to install Neo4j locally either use Neo4j Desktop or the official Docker image: `docker run -e NEO4J_AUTH=neo4j/password -p 7687:7687 -p 7474:7474 neo4j`\n",
    "* *Important*: To execute the cell below fill `neo4j_config.json` with your Neo4j credentials."
   ]
  },
  {
   "cell_type": "code",
   "execution_count": 3,
   "metadata": {},
   "outputs": [
    {
     "name": "stdout",
     "output_type": "stream",
     "text": [
      "Data loaded successfully.\n"
     ]
    }
   ],
   "source": [
    "import json\n",
    "import neo4j_loading\n",
    "from neo4j import GraphDatabase\n",
    "\n",
    "# load the Neo4j configuration\n",
    "with open(\"neo4j_config.json\") as f:\n",
    "    config = json.load(f)\n",
    "\n",
    "# create a Neo4j driver\n",
    "driver = GraphDatabase.driver(config[\"uri\"], auth=(config[\"username\"], config[\"password\"]))\n",
    "\n",
    "neo4j_loading.load(driver)"
   ]
  },
  {
   "cell_type": "markdown",
   "metadata": {},
   "source": [
    "## 3. Building the multiagent system for question answering\n",
    "* [AG2](https://github.com/ag2ai/ag2) (formerly AutoGen) is a popular framework for building multiagent systems.\n",
    "* First, we will set it up.\n",
    "* *Important:* Fill the `openai_config.json` with your OpenAI credentials, as it is described [here](https://ag2ai.github.io/ag2/docs/topics/llm_configuration/). Additionally, similarly to the GPT model, create an item in the list of the embedding model, that will be used later (must include *embedding*) in the `model` value).\n",
    "\n"
   ]
  },
  {
   "cell_type": "code",
   "execution_count": 1,
   "metadata": {},
   "outputs": [],
   "source": [
    "import autogen\n",
    "import re\n",
    "from typing import Dict, Union, List, Optional, Tuple\n",
    "\n",
    "config_list = autogen.config_list_from_json(\n",
    "    \"openai_config.json\",\n",
    ")\n",
    "\n",
    "llm_config={\n",
    "        \"cache_seed\": 41,\n",
    "        \"config_list\": config_list,\n",
    "        \"temperature\": 0.4,\n",
    "    }"
   ]
  },
  {
   "attachments": {
    "image-2.png": {
     "image/png": "[encoded data removed]"
    }
   },
   "cell_type": "markdown",
   "metadata": {},
   "source": [
    "### System Architecture\n",
    "* The simple system will have the following architecture:\n",
    "\n",
    "![image-2.png](attachment:image-2.png)\n",
    "\n",
    "* The **Graph Agent** is responsible for querying the graph database to collect the necessary information.\n",
    "* The **Entities Agent** identifies entities that are related to the given input.\n",
    "* The **Orchestrator** interacts with the other two agents in order to collect the required information and return it to the user."
   ]
  },
  {
   "cell_type": "markdown",
   "metadata": {},
   "source": [
    "#### Graph Agent\n",
    "* The Graph Agent takes the **database schema** and the **messages in the conversation** as input.\n",
    "* It then **writes a [Cypher](https://neo4j.com/docs/getting-started/cypher/) query** and **executes** it.\n",
    "* It returns the **output of the query** or the **exception raised**, alongside with the **suggested query**.\n",
    "* To implement this logic, let's first extract the database schema."
   ]
  },
  {
   "cell_type": "code",
   "execution_count": 4,
   "metadata": {},
   "outputs": [
    {
     "name": "stdout",
     "output_type": "stream",
     "text": [
      "\n",
      "Node properties: \n",
      "__Entity__ {description: STRING, embedding: STRING, human_readable_id: STRING, id: STRING, title: STRING}, Person {description: STRING, embedding: STRING, human_readable_id: STRING, id: STRING, title: STRING}, Organization {description: STRING, embedding: STRING, human_readable_id: STRING, id: STRING, title: STRING}, Geo {description: STRING, embedding: STRING, human_readable_id: STRING, id: STRING, title: STRING}, Event {description: STRING, embedding: STRING, human_readable_id: STRING, id: STRING, title: STRING}, __Community__ {community: STRING, full_content: STRING, level: STRING, rank: STRING, rank_explanation: STRING, summary: STRING, title: STRING}, Finding {explanation: STRING, id: STRING, summary: STRING}, __Document__ {id: STRING, title: STRING}, __Chunk__ {id: STRING, n_tokens: STRING, text: STRING}\n",
      "\n",
      "Relationships:\n",
      "(:__Community__)-[:HAS_FINDING]->(:Finding), (:__Chunk__)-[:PART_OF]->(:__Document__), (:__Chunk__)-[:HAS_ENTITY]->(:__Entity__:Person), (:__Chunk__)-[:HAS_ENTITY]->(:__Entity__:Geo), (:__Chunk__)-[:HAS_ENTITY]->(:__Entity__:Event), (:__Chunk__)-[:HAS_ENTITY]->(:__Entity__), (:__Chunk__)-[:HAS_ENTITY]->(:__Entity__:Organization)\n",
      "\n"
     ]
    }
   ],
   "source": [
    "def get_schema_formatted() -> str:\n",
    "    \"\"\"\n",
    "    Get the schema of the graph in a clear format.\n",
    "    \"\"\"\n",
    "    with driver.session() as session:\n",
    "        # Get node labels and properties\n",
    "        nodes_query = \"\"\"\n",
    "        MATCH (n)\n",
    "        UNWIND labels(n) AS label\n",
    "        RETURN label, collect(distinct keys(n)) AS properties\n",
    "        \"\"\"\n",
    "        node_data = session.run(nodes_query).data()\n",
    "        \n",
    "        # Get example relationships (works for small graphs)\n",
    "        example_relationships_query = \"\"\"\n",
    "        MATCH (a)-[r]->(b)\n",
    "        RETURN DISTINCT labels(a) AS from, type(r) AS relationship, labels(b) AS to\n",
    "        LIMIT 100\n",
    "        \"\"\"\n",
    "        relationship_examples = session.run(example_relationships_query).data()\n",
    "    \n",
    "    # Format node properties\n",
    "    node_properties = []\n",
    "    for node in node_data:\n",
    "        label = node['label']\n",
    "        properties = node['properties']\n",
    "        # Flatten property keys and add example types (hardcoded for demo)\n",
    "        formatted_properties = \", \".join([f\"{key}: STRING\" for key in sorted(set(k for p in properties for k in p))])\n",
    "        node_properties.append(f\"{label} {{{formatted_properties}}}\")\n",
    "    \n",
    "    # Format relationships\n",
    "    relationships = []\n",
    "    for example in relationship_examples:\n",
    "        from_labels = \":\".join(example[\"from\"])\n",
    "        to_labels = \":\".join(example[\"to\"])\n",
    "        relationship = example[\"relationship\"]\n",
    "        relationships.append(f\"(:{from_labels})-[:{relationship}]->(:{to_labels})\")\n",
    "    \n",
    "    # Combine into final schema format\n",
    "    schema = f\"\"\"\n",
    "Node properties: \n",
    "{\", \".join(node_properties)}\n",
    "\n",
    "Relationships:\n",
    "{', '.join(relationships)}\n",
    "\"\"\"\n",
    "    return schema\n",
    "\n",
    "\n",
    "schema = get_schema_formatted()\n",
    "print(schema)"
   ]
  },
  {
   "cell_type": "markdown",
   "metadata": {},
   "source": [
    "* The peculiarity of this agent is that it should not just write the Cypher script, but also **execute** it.\n",
    "* To do this we will create a custom `GraphAgent` class, that extends `autogen.ConversableAgent`, and override its `generate_oai_reply` function."
   ]
  },
  {
   "cell_type": "code",
   "execution_count": null,
   "metadata": {},
   "outputs": [],
   "source": [
    "class GraphAgent(autogen.ConversableAgent):\n",
    "    def __init__(self, name, system_message, llm_config, **kwargs):\n",
    "        super().__init__(name=name, system_message=system_message, llm_config=llm_config, **kwargs)\n",
    "    \n",
    "\n",
    "    @staticmethod\n",
    "    def _extract_cypher_block(text: str) -> str:\n",
    "        \"\"\"\n",
    "        In case the cypher block is written inside ```cypher ... ```, extract the cypher query.\n",
    "\n",
    "        Parameters:\n",
    "            text (str): The text to extract the cypher query from.\n",
    "        \n",
    "        Returns:\n",
    "            str: The extracted cypher query.\n",
    "        \"\"\"\n",
    "        # regex pattern to match text within ```cypher ... ```\n",
    "        pattern = r\"```cypher(.*?)```\"\n",
    "        \n",
    "        match = re.search(pattern, text, re.DOTALL)\n",
    "        \n",
    "        # if a match is found, return the matched text, else return the original text\n",
    "        return match.group(1).strip() if match else text.strip()\n",
    "    \n",
    "    def generate_oai_reply(self,\n",
    "                           messages: Optional[List[Dict]] = None,\n",
    "                           sender: Optional[autogen.agentchat.agent.Agent] = None,\n",
    "                           config: Optional[autogen.oai.client.OpenAIWrapper] = None,\n",
    "                           ) -> Tuple[bool, Union[str, Dict, None]]:\n",
    "        \"\"\"\n",
    "        Override the generate_oai_reply method to execute the cypher query and return the results.\n",
    "\n",
    "        Parameters:\n",
    "            messages (List[Dict]): The list of messages to generate a reply for.\n",
    "            sender (autogen.agentchat.agent.Agent): The sender of the messages.\n",
    "            config (autogen.oai.client.OpenAIWrapper): The OpenAI configuration.\n",
    "        \"\"\"\n",
    "        success, response = super().generate_oai_reply(messages, sender, config)\n",
    "\n",
    "        if not success:\n",
    "            return success, response\n",
    "\n",
    "        # the cypher query to execute\n",
    "        query = self._extract_cypher_block(response)\n",
    "\n",
    "        # the response to return\n",
    "        graph_response = \"Suggested query:\\n\" + query + \"\\n\"\n",
    "        try:\n",
    "            query_output = driver.execute_query(query)\n",
    "\n",
    "            records_returned = \"\"\n",
    "            for r in query_output.records:\n",
    "                # if embeddings are returned, remove them from the response as they are too large\n",
    "                if type(r) is dict:\n",
    "                    key = r.keys()[0]\n",
    "                    data = r.data()[key]\n",
    "                    record = {key: {k: v for k, v in data.items() if k != \"embedding\"}}\n",
    "                    records_returned += json.dumps(record, indent=4) + \"\\n\"\n",
    "                \n",
    "                else:\n",
    "                    records_returned += str(r) + \"\\n\"\n",
    "\n",
    "            return success, graph_response + \"\\nRecords Returned:\\n\" + records_returned\n",
    "        except Exception as e:\n",
    "            exception = str(e)\n",
    "            return success, graph_response + \"\\nException raised:\\n\" + exception"
   ]
  },
  {
   "cell_type": "markdown",
   "metadata": {},
   "source": [
    "* Next, we will craft a specialized prompt, that incorporates the schema of the database."
   ]
  },
  {
   "cell_type": "code",
   "execution_count": 6,
   "metadata": {},
   "outputs": [],
   "source": [
    "graph_prompt = f\"\"\"\n",
    "You are a Graph Agent that generates Cypher statements to query a graph database.\n",
    "Use the provided schema to query the database successfully.\n",
    "Schema:\n",
    "{schema}\n",
    "You have to produce ONLY the Cypher query, as your response will be taken as is to query the database.\n",
    "*Note*: You don't have to answer the full query at once, you can collect information and then be asked again based on these.\n",
    "**Important**: Be careful with the dashes in the names, the labels start and with double underscores (__), example: __Entity__. Also, the titles are written with full capital letters.\n",
    "\"\"\""
   ]
  },
  {
   "cell_type": "markdown",
   "metadata": {},
   "source": [
    "* Now, we are ready to create a graph agent."
   ]
  },
  {
   "cell_type": "code",
   "execution_count": 7,
   "metadata": {},
   "outputs": [],
   "source": [
    "graph_agent = GraphAgent(\n",
    "    name=\"Graph_Agent\",\n",
    "    system_message=graph_prompt,\n",
    "    llm_config=llm_config,\n",
    "    is_termination_msg=lambda x: x.get(\"content\", \"\").rstrip().endswith(\"TERMINATE\"),\n",
    "    )"
   ]
  },
  {
   "cell_type": "markdown",
   "metadata": {},
   "source": [
    "#### Entities Agent\n",
    "* The Entities Agent takes a query and identifies the **most related entities in the database** to the query.\n",
    "* It does this using **embeddings**. Specifically, it maps the given query to a semantically reach vector, and compares it to the vector of the descriptions of each entity. It then returns the entities that are closer to the query (using cosine similarity).\n",
    "* To implement this logic, we will create a `calculate_embedding` function."
   ]
  },
  {
   "cell_type": "code",
   "execution_count": 28,
   "metadata": {},
   "outputs": [],
   "source": [
    "from sklearn.metrics.pairwise import cosine_similarity\n",
    "from openai import AzureOpenAI, OpenAI\n",
    "\n",
    "embedding_config = {}\n",
    "\n",
    "# find the configuration for the embedding model\n",
    "for model_config in config_list:\n",
    "    if \"embedding\" in model_config[\"model\"]:\n",
    "        embedding_config = model_config\n",
    "        break\n",
    "\n",
    "if not embedding_config:\n",
    "    raise ValueError(\"No embedding model found in the configuration.\")\n",
    "\n",
    "EMBEDDING_MODEL = embedding_config[\"model\"]\n",
    "\n",
    "# create the OpenAI client, either AzureOpenAI or OpenAI\n",
    "if embedding_config.get(\"api_type\", \"openai\") == \"azure\":\n",
    "    OPENAI_CLIENT = AzureOpenAI(\n",
    "        azure_endpoint=embedding_config[\"base_url\"],\n",
    "        api_key=embedding_config[\"api_key\"],\n",
    "        api_version=embedding_config[\"api_version\"]\n",
    "        )\n",
    "else:\n",
    "    OPENAI_CLIENT = OpenAI(\n",
    "        api_key=embedding_config[\"api_key\"],\n",
    "        )\n",
    "\n",
    "\n",
    "def calculate_embedding(text: str) -> List[float]:\n",
    "    \"\"\"\n",
    "    Calculate the embedding for the given text.\n",
    "\n",
    "    Parameters:\n",
    "        text (str): The text to calculate the embedding for.\n",
    "    Returns:\n",
    "        List[float]: The calculated embedding.\n",
    "    \"\"\"\n",
    "    return OPENAI_CLIENT.embeddings.create(input=text, model=EMBEDDING_MODEL).data[0].embedding"
   ]
  },
  {
   "cell_type": "markdown",
   "metadata": {},
   "source": [
    "* Next, we will create a `get_related_entities` function.\n",
    "* It will get a piece of text as input and will return the most related entities in the database.\n",
    "* To do this, the `embedding` field of each entity will be used.\n",
    "* Before implementing the function, and to avoid querying the database every time, all the entities will be extracted."
   ]
  },
  {
   "cell_type": "code",
   "execution_count": 17,
   "metadata": {},
   "outputs": [
    {
     "data": {
      "text/plain": [
       "161"
      ]
     },
     "execution_count": 17,
     "metadata": {},
     "output_type": "execute_result"
    }
   ],
   "source": [
    "results = driver.execute_query(\"\"\"\n",
    "    MATCH (e:__Entity__)\n",
    "    RETURN e.id AS id, e.title AS title, e.description AS description, e.embedding AS embedding\n",
    "\"\"\")\n",
    "\n",
    "ALL_ENTITIES = []\n",
    "for record in results[0]:\n",
    "    entity = {\n",
    "        \"id\": record[\"id\"],\n",
    "        \"title\": record[\"title\"],\n",
    "        \"description\": record[\"description\"],\n",
    "        \"embedding\": record[\"embedding\"]\n",
    "    }\n",
    "    ALL_ENTITIES.append(entity)\n",
    "\n",
    "len(ALL_ENTITIES)"
   ]
  },
  {
   "cell_type": "code",
   "execution_count": 45,
   "metadata": {},
   "outputs": [],
   "source": [
    "def get_related_entities(query, top_k=5):\n",
    "    \"\"\"\n",
    "    Get the most related entities to a query from the Neo4j database.\n",
    "\n",
    "    Args:\n",
    "        query (str): The user query.\n",
    "        top_k (int): Number of top related entities to return.\n",
    "\n",
    "    Returns:\n",
    "        List of dictionaries with entity information and similarity scores.\n",
    "    \"\"\"\n",
    "    # calculate the embedding for the query\n",
    "    query_embedding = calculate_embedding(query)\n",
    "\n",
    "    # compute similarity scores\n",
    "    similarities = {}\n",
    "    for i, entity in enumerate(ALL_ENTITIES):\n",
    "        similarities[i] = cosine_similarity([query_embedding], [entity[\"embedding\"]])[0][0]\n",
    "\n",
    "    # sort entities by similarity and return top_k\n",
    "    related_entities_indices = sorted(range(len(similarities)), key=lambda i: similarities[i], reverse=True)[:top_k]\n",
    "    related_entities = [ALL_ENTITIES[i] for i in related_entities_indices]\n",
    "\n",
    "    return related_entities"
   ]
  },
  {
   "cell_type": "markdown",
   "metadata": {
    "vscode": {
     "languageId": "bat"
    }
   },
   "source": [
    "* Let's see an example."
   ]
  },
  {
   "cell_type": "code",
   "execution_count": 46,
   "metadata": {},
   "outputs": [
    {
     "name": "stdout",
     "output_type": "stream",
     "text": [
      "ALICE\n",
      "SISTER\n",
      "ALICE'S LOVE\n",
      "DINAH\n",
      "RABBIT\n"
     ]
    }
   ],
   "source": [
    "related_entities = get_related_entities(\"Who is the closest to Alice?\")\n",
    "for entity in related_entities:\n",
    "    print(entity[\"title\"])"
   ]
  },
  {
   "cell_type": "markdown",
   "metadata": {},
   "source": [
    "* This agent doesn't even have to call an LLM, it must take the last query and return the related entities.\n",
    "* To do this we will again extend the `autogen.ConversableAgent`, and we will use the `register_reply` method, to make the agent reply using the `get_related_entities` function."
   ]
  },
  {
   "cell_type": "code",
   "execution_count": 48,
   "metadata": {},
   "outputs": [],
   "source": [
    "class EntitiesAgent(autogen.ConversableAgent):\n",
    "    def __init__(self, name, **kwargs):\n",
    "        super().__init__(name=name, **kwargs)\n",
    "        self.register_reply([autogen.Agent, None], EntitiesAgent.entities_reply)\n",
    "    \n",
    "    def entities_reply(self,\n",
    "                       messages: Optional[List[Dict]] = None,\n",
    "                       sender: Optional[autogen.agentchat.agent.Agent] = None,\n",
    "                       config: Optional[autogen.oai.client.OpenAIWrapper] = None,\n",
    "                       ) -> Tuple[bool, Union[str, Dict, None]]:\n",
    "        query = messages[-1][\"content\"]\n",
    "        similar_entities = get_related_entities(query, driver, top_k=5)\n",
    "        response = \"\"\n",
    "        for i, entity in enumerate(similar_entities):\n",
    "            response += f\"Entity {i+1}:\\nTitle: {entity['title']}\\nDescription: {entity['description']}\\nSimilarity: {entity['similarity']}\\n\\n\"\n",
    "        return True, response\n",
    "        "
   ]
  },
  {
   "cell_type": "markdown",
   "metadata": {},
   "source": [
    "* We are now ready to initialize our Entities Agent."
   ]
  },
  {
   "cell_type": "code",
   "execution_count": 49,
   "metadata": {},
   "outputs": [],
   "source": [
    "entities_agent = EntitiesAgent(\n",
    "    name=\"Entities_Agent\",\n",
    "    is_termination_msg=lambda x: x.get(\"content\", \"\").rstrip().endswith(\"TERMINATE\"),\n",
    "    )"
   ]
  }
 ],
 "metadata": {
  "kernelspec": {
   "display_name": ".venv",
   "language": "python",
   "name": "python3"
  },
  "language_info": {
   "codemirror_mode": {
    "name": "ipython",
    "version": 3
   },
   "file_extension": ".py",
   "mimetype": "text/x-python",
   "name": "python",
   "nbconvert_exporter": "python",
   "pygments_lexer": "ipython3",
   "version": "3.11.5"
  }
 },
 "nbformat": 4,
 "nbformat_minor": 2
}
